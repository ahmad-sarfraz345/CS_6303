{
 "cells": [
  {
   "cell_type": "markdown",
   "id": "a4de6984",
   "metadata": {},
   "source": [
    "# Assignment 1 Part 2 Instructions **[50 marks]**\n",
    "\n",
    "## Overview\n",
    "You are required to develop an **initial chatbot system** and then implement **improvement(s)** on it. This process will involve an incremental development approach, where each new version builds upon the previous one. The goal is to improve the system’s performance in terms of response time.\n",
    "\n",
    "---\n",
    "\n",
    "## Part 1: Develop the Base Chatbot Implementation (20 marks)\n",
    "\n",
    "### Requirements\n",
    "- You must **implement a basic chatbot system** from scratch. This will serve as your starting point for future improvements.\n",
    "- The system should include **history tracking** (i.e., keeping track of the conversation history for context).\n",
    "- The chatbot must be able to provide consistent and accurate responses based on the conversation history.\n",
    "\n",
    "---\n",
    "\n",
    "## Part 2: Implement Prompt Caching (15 marks)\n",
    "\n",
    "### Requirements\n",
    "- After completing your base chatbot, you must improve the system by introducing **prompt caching**.\n",
    "- Implement a system to **cache** prompts and responses to reduce unnecessary computations and improve response times.\n",
    "- Ensure that the caching mechanism enhances performance without compromising the correctness of responses.\n",
    "- Prompt caching should improve **response time**.\n",
    "\n",
    "---\n",
    "\n",
    "# Part 3 (Bonus): Implement Smart History (5+5 marks)\n",
    "\n",
    "### Requirements\n",
    "- Implement intelligent history tracking that **selectively stores relevant conversation snippets** rather than storing the entire history. \n",
    "- Focus on retaining only the most important or contextually relevant parts of the conversation.\n",
    "- Ensure that the system efficiently manages memory by not retaining unnecessary information.\n",
    "\n",
    "### Notes:\n",
    "- This section is **bonus** and can help recover **marks lost in any section** of this assignment.\n",
    "- **Marks gained in Part 3** are **not transferable** to any other grading components.\n",
    "- **5 marks** will be awarded for including detailed documentation of this implementation in the **report**. \n",
    "  - You **will not receive marks for code** unless you also provide **comprehensive details** of this improvement in the report, along with your other implementations.\n",
    "\n",
    "\n",
    "---\n",
    "\n",
    "## Evaluation Criteria\n",
    "All parts of the assignment will be evaluated based on the following:\n",
    "- **Correctness of Responses**: The system must generate correct answers for all the test cases.\n",
    "- **Performance**: The second implementation (with prompt caching) should be faster than the base system.\n",
    "- **Performance (Bonus)**: Your implementation of smart history must effectively manage memory and improve the system's overall performance.\n",
    "- **Correctness (Bonus)**: The chatbot should still produce accurate and contextually relevant responses while selectively storing history.\n",
    "\n",
    "  \n",
    "### Testing:\n",
    "- **Each implementation** will be **run three times**.\n",
    "- The **average of the best two runs** will be used for grading.\n",
    "\n",
    "---\n",
    "\n",
    "## Report (Must be reproducible) (15 marks)\n",
    "\n",
    "- **Graphs**: Include graphs showing **response time** for the base implementation and the improved implementation (Bonus as well if applicable) (all three runs). The graphs should clearly illustrate the performance improvement after each change.\n",
    "- **Journal of Thought Process**: Provide a detailed explanation of:\n",
    "  - Your design decisions and how you implemented each part.\n",
    "  - The reasoning behind introducing prompt caching and how it impacts system performance.\n",
    "- **Testing Results**: Clearly report the results of your testing, including the average times and performance metrics from the three runs of all versions.\n",
    "- In your summary, explain **how each step** (base system and prompt caching) improves the performance over the previous version.\n",
    "\n",
    "---\n",
    "\n",
    "## Deliverables:\n",
    "1. **Code**: Submit the code for both the base implementation and the improved version with prompt caching.\n",
    "2. **Report**: Submit a detailed, reproducible report that includes: (Bonus as well if applicable)\n",
    "   - Graphs comparing the base and improved system performance. \n",
    "   - A journal explaining your design decisions and reasoning behind each improvement.\n",
    "   - Testing results (average response times, resource usage, and other relevant metrics).\n",
    "3. **Generated Files**: Include the generated files from the runs of your base system and improved system.\n",
    "\n",
    "---\n"
   ]
  },
  {
   "cell_type": "markdown",
   "id": "3acbfe77",
   "metadata": {},
   "source": [
    "## Imports and API keys"
   ]
  },
  {
   "cell_type": "code",
   "execution_count": 35,
   "id": "76edaece",
   "metadata": {},
   "outputs": [],
   "source": [
    "import os\n",
    "import sys\n",
    "import time\n",
    "import dotenv\n",
    "import numpy as np\n",
    "import streamlit as st\n",
    "from langchain import PromptTemplate\n",
    "from langchain_mistralai import ChatMistralAI\n",
    "from sklearn.metrics.pairwise import cosine_similarity\n",
    "from langchain_huggingface import HuggingFaceEmbeddings\n",
    "from langchain.schema.runnable import RunnablePassthrough\n",
    "from langchain.schema.output_parser import StrOutputParser"
   ]
  },
  {
   "cell_type": "code",
   "execution_count": 36,
   "id": "368d855e",
   "metadata": {},
   "outputs": [
    {
     "data": {
      "text/plain": [
       "True"
      ]
     },
     "execution_count": 36,
     "metadata": {},
     "output_type": "execute_result"
    }
   ],
   "source": [
    "#  Copy env file from part 1\n",
    "dotenv.load_dotenv()"
   ]
  },
  {
   "cell_type": "markdown",
   "id": "d0cc8f07",
   "metadata": {},
   "source": [
    "### Allowed Models"
   ]
  },
  {
   "cell_type": "code",
   "execution_count": 37,
   "id": "64431bc3",
   "metadata": {},
   "outputs": [],
   "source": [
    "# MODELS\n",
    "\n",
    "embed_model = \"sentence-transformers/all-mpnet-base-v2\"\n",
    "model1 = \"ministral-3b-latest\"\n",
    "model2 = \"ministral-8b-latest\"\n",
    "model3 = \"mistral-small-latest\"\n"
   ]
  },
  {
   "cell_type": "markdown",
   "id": "7271dd6d",
   "metadata": {},
   "source": [
    "### Prompts\n",
    "You may have more than one\n"
   ]
  },
  {
   "cell_type": "code",
   "execution_count": 38,
   "id": "fbea5488",
   "metadata": {},
   "outputs": [],
   "source": [
    "# Base prompt\n",
    "prompt1 = PromptTemplate.from_template(\n",
    "    \"\"\"\\\n",
    "    You are a chatbot designed to answer questions only from within the conversation history, reply concisely and do not reply when no question is asked\"\n",
    "\n",
    "    Here is the conversation history:\n",
    "    {history}\n",
    "\n",
    "    Question: {query}  \n",
    "    Answer:\n",
    "    \"\"\"\n",
    ")\n",
    "# prompt2 = None"
   ]
  },
  {
   "cell_type": "markdown",
   "id": "0f1ceb56",
   "metadata": {},
   "source": [
    "## To-Do"
   ]
  },
  {
   "cell_type": "markdown",
   "id": "4a289392",
   "metadata": {},
   "source": [
    "### Part #1 <span style=\"color:green\">**[20 marks]**</span>"
   ]
  },
  {
   "cell_type": "code",
   "execution_count": null,
   "id": "7aa8045b",
   "metadata": {},
   "outputs": [],
   "source": [
    "class Bot_base:\n",
    "\n",
    "    def __init__(self):\n",
    "\n",
    "        # DO NOT remove any of the provided variables (You can add extra)\n",
    "        self.time = 0                                   # total response time\n",
    "        self.time_start = 0                             # start time for a query\n",
    "        self.time_end = 0                               # end time for a query\n",
    "        self.history = {}                               # var to store history (can be dict, list or any)\n",
    "        \n",
    "        \n",
    "    # You are responsible for tracking the time taken for each query\n",
    "    def track_time(self, option):\n",
    "        if option == \"start\":\n",
    "            self.time_start = time.time()\n",
    "        elif option == \"end\":\n",
    "            self.time_end = time.time()\n",
    "            self.time += self.time_end - self.time_start\n",
    "\n",
    "    # TO-DO: This should return the reply from the chatbot as str\n",
    "    def generate(self, query, model=model3, prompt=prompt1):\n",
    "        self.track_time(\"start\")                                                \n",
    "        response = None\n",
    "\n",
    "        self.track_time(\"end\")\n",
    "        return response"
   ]
  },
  {
   "cell_type": "markdown",
   "id": "3f739400",
   "metadata": {},
   "source": [
    "### Part #2 <span style=\"color:green\">**[15 marks]**</span>\n"
   ]
  },
  {
   "cell_type": "code",
   "execution_count": 40,
   "id": "4d9c80fc",
   "metadata": {},
   "outputs": [],
   "source": [
    "# reuse code from the last part"
   ]
  },
  {
   "cell_type": "markdown",
   "id": "05865141",
   "metadata": {},
   "source": [
    "### Part #3 (Bonus) <span style=\"color:green\">**[5+5 marks]**</span>"
   ]
  },
  {
   "cell_type": "code",
   "execution_count": 41,
   "id": "7cf65a70",
   "metadata": {},
   "outputs": [],
   "source": [
    "# reuse code from the last part"
   ]
  },
  {
   "cell_type": "markdown",
   "id": "8f92ac02",
   "metadata": {},
   "source": [
    "## Testing"
   ]
  },
  {
   "cell_type": "markdown",
   "id": "cedf78ec",
   "metadata": {},
   "source": [
    "### Loading test queries and functions\n",
    "[Do Not Change]  \n"
   ]
  },
  {
   "cell_type": "code",
   "execution_count": 42,
   "id": "6ef5e6a9",
   "metadata": {},
   "outputs": [
    {
     "name": "stdout",
     "output_type": "stream",
     "text": [
      "\"In the realm of Asgard, the tallest mountain is Odin, a colossal peak that rises higher than any other in the Nine Realms. Towering at an awe-inspiring 29,032 feet above the shining plains of Vanahei\n"
     ]
    }
   ],
   "source": [
    "queries = {}\n",
    "\n",
    "with open(\"queries.txt\", \"r\") as f:\n",
    "    for line in f:\n",
    "        line = line.strip()\n",
    "        if line and \"=\" in line:\n",
    "            key, value = line.split(\"=\", 1)\n",
    "            queries[key.strip()] = value.strip()\n",
    "\n",
    "print(queries[\"query1\"][:200])\n"
   ]
  },
  {
   "cell_type": "markdown",
   "id": "fdd8d824",
   "metadata": {},
   "source": [
    "### Example Run\n",
    "\n",
    "You have to run each version 3 times and submit seperate txt file for each run."
   ]
  },
  {
   "cell_type": "code",
   "execution_count": null,
   "id": "e71743e7",
   "metadata": {},
   "outputs": [],
   "source": [
    "base= Bot_base()\n",
    "\n",
    "\n",
    "with open(\"base.txt\", \"w\") as f:\n",
    "    for i, query_num in enumerate(queries, start=1):\n",
    "        try:\n",
    "            query = queries[query_num]\n",
    "            response = base.generate(query=query, prompt=prompt1, model=model1)\n",
    "\n",
    "            print(f\"Response for query {i}: {response}\")\n",
    "            f.write(f\"Query {i}: {query}\\nResponse: {response}\\n\\n\")\n",
    "            \n",
    "        except Exception as e:\n",
    "            print(f\"Error processing query {i}: {e}\")\n",
    "            break\n",
    "        \n",
    "print(f\"Total time taken: {base.time} seconds\")"
   ]
  },
  {
   "cell_type": "markdown",
   "id": "6af93277",
   "metadata": {},
   "source": [
    "### Report <span style=\"color:green\">**[15 marks]**</span>"
   ]
  },
  {
   "cell_type": "markdown",
   "id": "6b58b9a6",
   "metadata": {},
   "source": [
    "### Report Submission Guidelines\n",
    "\n",
    "Along with your improved implementations, you must submit a **report in PDF format** that documents your work. This report is a crucial part of the assignment and will be graded for clarity, completeness, and reproducibility.  \n",
    "\n",
    "Your report must include:  \n",
    "1. **Findings**: A clear summary of results from each implementation. (table form)  \n",
    "2. **Mechanisms Used**: A detailed explanation of the methods and architectural changes applied at each step.  \n",
    "3. **Thought Process**: A journal-style reflection describing your reasoning for applying each change.  \n",
    "4. **Graphs**: Visualizations showing the changes in **response time** and **API cost** after each implementation.  \n",
    "\n",
    "> ⚠️ **Important**: While the PDF should contain the graphs, the **code used to generate these graphs must be included in the notebook cells below this section**. This ensures that your results are reproducible.  \n"
   ]
  },
  {
   "cell_type": "code",
   "execution_count": 44,
   "id": "5b4178bb",
   "metadata": {},
   "outputs": [],
   "source": [
    "# Your code for graphs and report goes here"
   ]
  },
  {
   "cell_type": "markdown",
   "id": "217f4dbb",
   "metadata": {},
   "source": [
    "## End of Part 2\n",
    "\n",
    "You must submit:  \n",
    "- The **current notebook file** (`.ipynb`).  \n",
    "- Its **Python conversion** (`.py` file).  \n",
    "- The **Report** (`.pdf`).\n",
    "- Run **files** (`.txt`).\n",
    "\n",
    "All files should be placed inside a folder named \"RollNumber_PA1\". This folder must also include your **Part 1 files**, and the entire folder should be **zipped and submitted**."
   ]
  }
 ],
 "metadata": {
  "kernelspec": {
   "display_name": "Python 3",
   "language": "python",
   "name": "python3"
  },
  "language_info": {
   "codemirror_mode": {
    "name": "ipython",
    "version": 3
   },
   "file_extension": ".py",
   "mimetype": "text/x-python",
   "name": "python",
   "nbconvert_exporter": "python",
   "pygments_lexer": "ipython3",
   "version": "3.10.12"
  }
 },
 "nbformat": 4,
 "nbformat_minor": 5
}
