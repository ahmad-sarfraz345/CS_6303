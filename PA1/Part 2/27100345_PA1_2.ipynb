{
 "cells": [
  {
   "cell_type": "markdown",
   "id": "a4de6984",
   "metadata": {},
   "source": [
    "# Assignment 1 Part 2 Instructions **[50 marks]**\n",
    "\n",
    "## Overview\n",
    "You are required to develop an **initial chatbot system** and then implement **improvement(s)** on it. This process will involve an incremental development approach, where each new version builds upon the previous one. The goal is to improve the system’s performance in terms of response time.\n",
    "\n",
    "---\n",
    "\n",
    "## Part 1: Develop the Base Chatbot Implementation (20 marks)\n",
    "\n",
    "### Requirements\n",
    "- You must **implement a basic chatbot system** from scratch. This will serve as your starting point for future improvements.\n",
    "- The system should include **history tracking** (i.e., keeping track of the conversation history for context).\n",
    "- The chatbot must be able to provide consistent and accurate responses based on the conversation history.\n",
    "\n",
    "---\n",
    "\n",
    "## Part 2: Implement Prompt Caching (15 marks)\n",
    "\n",
    "### Requirements\n",
    "- After completing your base chatbot, you must improve the system by introducing **prompt caching**.\n",
    "- Implement a system to **cache** prompts and responses to reduce unnecessary computations and improve response times.\n",
    "- Ensure that the caching mechanism enhances performance without compromising the correctness of responses.\n",
    "- Prompt caching should improve **response time**.\n",
    "\n",
    "---\n",
    "\n",
    "# Part 3 (Bonus): Implement Smart History (5+5 marks)\n",
    "\n",
    "### Requirements\n",
    "- Implement intelligent history tracking that **selectively stores relevant conversation snippets** rather than storing the entire history. \n",
    "- Focus on retaining only the most important or contextually relevant parts of the conversation.\n",
    "- Ensure that the system efficiently manages memory by not retaining unnecessary information.\n",
    "\n",
    "### Notes:\n",
    "- This section is **bonus** and can help recover **marks lost in any section** of this assignment.\n",
    "- **Marks gained in Part 3** are **not transferable** to any other grading components.\n",
    "- **5 marks** will be awarded for including detailed documentation of this implementation in the **report**. \n",
    "  - You **will not receive marks for code** unless you also provide **comprehensive details** of this improvement in the report, along with your other implementations.\n",
    "\n",
    "\n",
    "---\n",
    "\n",
    "## Evaluation Criteria\n",
    "All parts of the assignment will be evaluated based on the following:\n",
    "- **Correctness of Responses**: The system must generate correct answers for all the test cases.\n",
    "- **Performance**: The second implementation (with prompt caching) should be faster than the base system.\n",
    "- **Performance (Bonus)**: Your implementation of smart history must effectively manage memory and improve the system's overall performance.\n",
    "- **Correctness (Bonus)**: The chatbot should still produce accurate and contextually relevant responses while selectively storing history.\n",
    "\n",
    "  \n",
    "### Testing:\n",
    "- **Each implementation** will be **run three times**.\n",
    "- The **average of the best two runs** will be used for grading.\n",
    "\n",
    "---\n",
    "\n",
    "## Report (Must be reproducible) (15 marks)\n",
    "\n",
    "- **Graphs**: Include graphs showing **response time** for the base implementation and the improved implementation (Bonus as well if applicable) (all three runs). The graphs should clearly illustrate the performance improvement after each change.\n",
    "- **Journal of Thought Process**: Provide a detailed explanation of:\n",
    "  - Your design decisions and how you implemented each part.\n",
    "  - The reasoning behind introducing prompt caching and how it impacts system performance.\n",
    "- **Testing Results**: Clearly report the results of your testing, including the average times and performance metrics from the three runs of all versions.\n",
    "- In your summary, explain **how each step** (base system and prompt caching) improves the performance over the previous version.\n",
    "\n",
    "---\n",
    "\n",
    "## Deliverables:\n",
    "1. **Code**: Submit the code for both the base implementation and the improved version with prompt caching.\n",
    "2. **Report**: Submit a detailed, reproducible report that includes: (Bonus as well if applicable)\n",
    "   - Graphs comparing the base and improved system performance. \n",
    "   - A journal explaining your design decisions and reasoning behind each improvement.\n",
    "   - Testing results (average response times, resource usage, and other relevant metrics).\n",
    "3. **Generated Files**: Include the generated files from the runs of your base system and improved system.\n",
    "\n",
    "---\n"
   ]
  },
  {
   "cell_type": "markdown",
   "id": "3acbfe77",
   "metadata": {},
   "source": [
    "## Imports and API keys"
   ]
  },
  {
   "cell_type": "code",
   "execution_count": 1,
   "id": "76edaece",
   "metadata": {},
   "outputs": [
    {
     "name": "stderr",
     "output_type": "stream",
     "text": [
      "d:\\coding\\CS_6303\\PA1\\.venv\\Lib\\site-packages\\tqdm\\auto.py:21: TqdmWarning: IProgress not found. Please update jupyter and ipywidgets. See https://ipywidgets.readthedocs.io/en/stable/user_install.html\n",
      "  from .autonotebook import tqdm as notebook_tqdm\n"
     ]
    }
   ],
   "source": [
    "import os\n",
    "import sys\n",
    "import time\n",
    "import dotenv\n",
    "import numpy as np\n",
    "import streamlit as st\n",
    "from langchain import PromptTemplate\n",
    "from langchain_mistralai import ChatMistralAI\n",
    "from sklearn.metrics.pairwise import cosine_similarity\n",
    "from langchain_huggingface import HuggingFaceEmbeddings\n",
    "from langchain.schema.runnable import RunnablePassthrough\n",
    "from langchain.schema.output_parser import StrOutputParser"
   ]
  },
  {
   "cell_type": "code",
   "execution_count": 2,
   "id": "368d855e",
   "metadata": {},
   "outputs": [
    {
     "data": {
      "text/plain": [
       "True"
      ]
     },
     "execution_count": 2,
     "metadata": {},
     "output_type": "execute_result"
    }
   ],
   "source": [
    "#  Copy env file from part 1\n",
    "dotenv.load_dotenv()"
   ]
  },
  {
   "cell_type": "markdown",
   "id": "d0cc8f07",
   "metadata": {},
   "source": [
    "### Allowed Models"
   ]
  },
  {
   "cell_type": "code",
   "execution_count": 3,
   "id": "64431bc3",
   "metadata": {},
   "outputs": [],
   "source": [
    "# MODELS\n",
    "\n",
    "embed_model = \"sentence-transformers/all-mpnet-base-v2\"\n",
    "model1 = \"ministral-3b-latest\"\n",
    "model2 = \"ministral-8b-latest\"\n",
    "model3 = \"mistral-small-latest\"\n"
   ]
  },
  {
   "cell_type": "markdown",
   "id": "7271dd6d",
   "metadata": {},
   "source": [
    "### Prompts\n",
    "You may have more than one\n"
   ]
  },
  {
   "cell_type": "code",
   "execution_count": 4,
   "id": "fbea5488",
   "metadata": {},
   "outputs": [],
   "source": [
    "# Base prompt\n",
    "prompt1 = PromptTemplate.from_template(\n",
    "    \"\"\"\\\n",
    "    You are a chatbot designed to answer questions only from within the conversation history, reply concisely and do not reply when no question is asked\"\n",
    "\n",
    "    Here is the conversation history:\n",
    "    {history}\n",
    "\n",
    "    Question: {query}  \n",
    "    Answer:\n",
    "    \"\"\"\n",
    ")\n",
    "# prompt2 = None"
   ]
  },
  {
   "cell_type": "markdown",
   "id": "0f1ceb56",
   "metadata": {},
   "source": [
    "## To-Do"
   ]
  },
  {
   "cell_type": "markdown",
   "id": "4a289392",
   "metadata": {},
   "source": [
    "### Part #1 <span style=\"color:green\">**[20 marks]**</span>"
   ]
  },
  {
   "cell_type": "code",
   "execution_count": 5,
   "id": "7aa8045b",
   "metadata": {},
   "outputs": [],
   "source": [
    "class Bot_base:\n",
    "\n",
    "    def __init__(self):\n",
    "\n",
    "        # DO NOT remove any of the provided variables (You can add extra)\n",
    "        self.time = 0                                   # total response time\n",
    "        self.time_start = 0                             # start time for a query\n",
    "        self.time_end = 0                               # end time for a query\n",
    "        self.history = {}                               # var to store history (can be dict, list or any)\n",
    "        \n",
    "        \n",
    "    # You are responsible for tracking the time taken for each query\n",
    "    def track_time(self, option):\n",
    "        if option == \"start\":\n",
    "            self.time_start = time.time()\n",
    "        elif option == \"end\":\n",
    "            self.time_end = time.time()\n",
    "            self.time += self.time_end - self.time_start\n",
    "\n",
    "    # TO-DO: This should return the reply from the chatbot as str\n",
    "    def generate(self, query, model=model3, prompt=prompt1):\n",
    "        self.track_time(\"start\")                                                \n",
    "        chat = ChatMistralAI(model=model, temperature=0, api_key=os.getenv(\"MISTRALAI_API_KEY\"))\n",
    "        history_str = \"\\n\".join([f\"User: {k}\\nBot: {v}\" for k, v in self.history.items()])\n",
    "        formatted_prompt = prompt.format(history=history_str, query=query)\n",
    "        response = chat.invoke(formatted_prompt)\n",
    "        self.history[query] = response.content\n",
    "        self.track_time(\"end\")\n",
    "        return response.content"
   ]
  },
  {
   "cell_type": "markdown",
   "id": "3f739400",
   "metadata": {},
   "source": [
    "### Part #2 <span style=\"color:green\">**[15 marks]**</span>\n"
   ]
  },
  {
   "cell_type": "code",
   "execution_count": 6,
   "id": "4d9c80fc",
   "metadata": {},
   "outputs": [],
   "source": [
    "class Bot_cache:\n",
    "\n",
    "    def __init__(self):\n",
    "\n",
    "        # DO NOT remove any of the provided variables (You can add extra)\n",
    "        self.time = 0                                   # total response time\n",
    "        self.time_start = 0                             # start time for a query\n",
    "        self.time_end = 0                               # end time for a query\n",
    "        self.history = {}                               # var to store history (can be dict, list or any)\n",
    "        self.cache = {}\n",
    "        \n",
    "        \n",
    "    # You are responsible for tracking the time taken for each query\n",
    "    def track_time(self, option):\n",
    "        if option == \"start\":\n",
    "            self.time_start = time.time()\n",
    "        elif option == \"end\":\n",
    "            self.time_end = time.time()\n",
    "            self.time += self.time_end - self.time_start\n",
    "\n",
    "    # TO-DO: This should return the reply from the chatbot as str\n",
    "    def generate(self, query, model=model3, prompt=prompt1):\n",
    "        cache_key = (query, model, prompt.template)\n",
    "        if cache_key in self.cache:\n",
    "            return self.cache[cache_key]\n",
    "        self.track_time(\"start\")                                                \n",
    "        chat = ChatMistralAI(model=model, temperature=0, api_key=os.getenv(\"MISTRALAI_API_KEY\"))\n",
    "        history_str = \"\\n\".join([f\"User: {k}\\nBot: {v}\" for k, v in self.history.items()])\n",
    "        formatted_prompt = prompt.format(history=history_str, query=query)\n",
    "        response = chat.invoke(formatted_prompt)\n",
    "        self.history[query] = response.content\n",
    "        self.cache[cache_key] = response.content\n",
    "        self.track_time(\"end\")\n",
    "        return response.content"
   ]
  },
  {
   "cell_type": "markdown",
   "id": "05865141",
   "metadata": {},
   "source": [
    "### Part #3 (Bonus) <span style=\"color:green\">**[5+5 marks]**</span>"
   ]
  },
  {
   "cell_type": "code",
   "execution_count": 7,
   "id": "7cf65a70",
   "metadata": {},
   "outputs": [],
   "source": [
    "# reuse code from the last part"
   ]
  },
  {
   "cell_type": "markdown",
   "id": "8f92ac02",
   "metadata": {},
   "source": [
    "## Testing"
   ]
  },
  {
   "cell_type": "markdown",
   "id": "cedf78ec",
   "metadata": {},
   "source": [
    "### Loading test queries and functions\n",
    "[Do Not Change]  \n"
   ]
  },
  {
   "cell_type": "code",
   "execution_count": 8,
   "id": "6ef5e6a9",
   "metadata": {},
   "outputs": [
    {
     "name": "stdout",
     "output_type": "stream",
     "text": [
      "\"In the realm of Asgard, the tallest mountain is Odin, a colossal peak that rises higher than any other in the Nine Realms. Towering at an awe-inspiring 29,032 feet above the shining plains of Vanahei\n"
     ]
    }
   ],
   "source": [
    "queries = {}\n",
    "\n",
    "with open(\"queries.txt\", \"r\", encoding=\"utf-8\") as f:\n",
    "    for line in f:\n",
    "        line = line.strip()\n",
    "        if line and \"=\" in line:\n",
    "            key, value = line.split(\"=\", 1)\n",
    "            queries[key.strip()] = value.strip()\n",
    "\n",
    "print(queries[\"query1\"][:200])\n"
   ]
  },
  {
   "cell_type": "markdown",
   "id": "fdd8d824",
   "metadata": {},
   "source": [
    "### Example Run\n",
    "\n",
    "You have to run each version 3 times and submit seperate txt file for each run."
   ]
  },
  {
   "cell_type": "code",
   "execution_count": 22,
   "id": "e71743e7",
   "metadata": {},
   "outputs": [
    {
     "name": "stdout",
     "output_type": "stream",
     "text": [
      "Response for query 1: Odin\n",
      "Response for query 2: In the coastal city of Marindale, the HelioWeave is a city-spanning canopy of solar textile that supplies 70 percent of Marindale’s electricity while shading streets, markets, and rooftops.\n",
      "Response for query 3: The Ninefold Archive consists of nine underground vaults now housed at the Isola Museum of Origins.\n",
      "Response for query 4: Sleipnir\n",
      "Response for query 5: 70 percent\n",
      "Response for query 6: Alderwick\n",
      "Response for query 7: 42 percent\n",
      "Response for query 8: Odin\n",
      "Response for query 9: Nine\n",
      "Response for query 10: Gungnir\n",
      "Response for query 11: Aethra\n",
      "Response for query 12: Eldros\n",
      "Response for query 13: Marindale\n",
      "Response for query 14: The true discovery site of the Ninefold Archive is Dunelith.\n",
      "Response for query 15: The tallest tower in the Nine Realms is Hlidskjalf, and the mightiest forge in the Nine Realms is Surtr’s Crucible.\n",
      "Response for query 16: The mightiest forge in the Nine Realms is Surtr’s Crucible, and the tallest tower in the Nine Realms is Hlidskjalf.\n",
      "Response for query 17: The Isola Museum of Origins\n",
      "Response for query 18: Marindale\n",
      "Response for query 19: Dunelith\n",
      "Response for query 20: The Isola Museum of Origins\n",
      "Total time taken: 16.417797803878784 seconds\n"
     ]
    }
   ],
   "source": [
    "base= Bot_cache()\n",
    "\n",
    "with open(\"cache3.txt\", \"w\") as f:\n",
    "    for i, query_num in enumerate(queries, start=1):\n",
    "        try:\n",
    "            query = queries[query_num]\n",
    "            response = base.generate(query=query, prompt=prompt1, model=model1)\n",
    "\n",
    "            print(f\"Response for query {i}: {response}\")\n",
    "            f.write(f\"Query {i}: {query}\\nResponse: {response}\\n\\n\")\n",
    "            \n",
    "        except Exception as e:\n",
    "            print(f\"Error processing query {i}: {e}\")\n",
    "            break\n",
    "        \n",
    "print(f\"Total time taken: {base.time} seconds\")"
   ]
  },
  {
   "cell_type": "code",
   "execution_count": 25,
   "id": "e050bad0",
   "metadata": {},
   "outputs": [
    {
     "name": "stdout",
     "output_type": "stream",
     "text": [
      "Response for query 1: Odin\n",
      "Response for query 2: In the coastal city of Marindale, the HelioWeave is a city-spanning canopy of solar textile that supplies 70 percent of Marindale’s electricity while shading streets, markets, and rooftops.\n",
      "Response for query 3: The Ninefold Archive consists of nine underground vaults now housed at the Isola Museum of Origins.\n",
      "Response for query 4: Sleipnir\n",
      "Response for query 5: 70 percent\n",
      "Response for query 6: Alderwick\n",
      "Response for query 7: 42 percent\n",
      "Response for query 8: Odin\n",
      "Response for query 9: Nine\n",
      "Response for query 10: Gungnir\n",
      "Response for query 11: Aethra\n",
      "Response for query 12: Eldros\n",
      "Response for query 13: Marindale\n",
      "Response for query 14: The true discovery site of the Ninefold Archive is Dunelith.\n",
      "Response for query 15: The tallest tower in the Nine Realms is Hlidskjalf, and the mightiest forge is Surtr’s Crucible.\n",
      "Response for query 16: The mightiest forge in the Nine Realms is Surtr’s Crucible, and the tallest tower in the Nine Realms is Hlidskjalf.\n",
      "Response for query 17: The Isola Museum of Origins\n",
      "Response for query 18: Marindale\n",
      "Response for query 19: Dunelith\n",
      "Response for query 20: The Isola Museum of Origins\n",
      "Total time taken: 21.34333610534668 seconds\n"
     ]
    }
   ],
   "source": [
    "base = Bot_base()\n",
    "\n",
    "with open(\"base3.txt\", \"w\") as f:\n",
    "    for i, query_num in enumerate(queries, start=1):\n",
    "        try:\n",
    "            query = queries[query_num]\n",
    "            response = base.generate(query=query, prompt=prompt1, model=model1)\n",
    "\n",
    "            print(f\"Response for query {i}: {response}\")\n",
    "            f.write(f\"Query {i}: {query}\\nResponse: {response}\\n\\n\")\n",
    "            \n",
    "        except Exception as e:\n",
    "            print(f\"Error processing query {i}: {e}\")\n",
    "            break\n",
    "        \n",
    "print(f\"Total time taken: {base.time} seconds\")"
   ]
  },
  {
   "cell_type": "markdown",
   "id": "6af93277",
   "metadata": {},
   "source": [
    "### Report <span style=\"color:green\">**[15 marks]**</span>"
   ]
  },
  {
   "cell_type": "markdown",
   "id": "6b58b9a6",
   "metadata": {},
   "source": [
    "### Report Submission Guidelines\n",
    "\n",
    "Along with your improved implementations, you must submit a **report in PDF format** that documents your work. This report is a crucial part of the assignment and will be graded for clarity, completeness, and reproducibility.  \n",
    "\n",
    "Your report must include:  \n",
    "1. **Findings**: A clear summary of results from each implementation. (table form)  \n",
    "2. **Mechanisms Used**: A detailed explanation of the methods and architectural changes applied at each step.  \n",
    "3. **Thought Process**: A journal-style reflection describing your reasoning for applying each change.  \n",
    "4. **Graphs**: Visualizations showing the changes in **response time** and **API cost** after each implementation.  \n",
    "\n",
    "> ⚠️ **Important**: While the PDF should contain the graphs, the **code used to generate these graphs must be included in the notebook cells below this section**. This ensures that your results are reproducible.  \n"
   ]
  },
  {
   "cell_type": "code",
   "execution_count": 26,
   "id": "5b4178bb",
   "metadata": {},
   "outputs": [
    {
     "data": {
      "text/html": [
       "<div>\n",
       "<style scoped>\n",
       "    .dataframe tbody tr th:only-of-type {\n",
       "        vertical-align: middle;\n",
       "    }\n",
       "\n",
       "    .dataframe tbody tr th {\n",
       "        vertical-align: top;\n",
       "    }\n",
       "\n",
       "    .dataframe thead th {\n",
       "        text-align: right;\n",
       "    }\n",
       "</style>\n",
       "<table border=\"1\" class=\"dataframe\">\n",
       "  <thead>\n",
       "    <tr style=\"text-align: right;\">\n",
       "      <th></th>\n",
       "      <th>Implementation</th>\n",
       "      <th>mean</th>\n",
       "      <th>std</th>\n",
       "    </tr>\n",
       "  </thead>\n",
       "  <tbody>\n",
       "    <tr>\n",
       "      <th>0</th>\n",
       "      <td>Base</td>\n",
       "      <td>19.743015</td>\n",
       "      <td>1.394221</td>\n",
       "    </tr>\n",
       "    <tr>\n",
       "      <th>1</th>\n",
       "      <td>Cached</td>\n",
       "      <td>17.587124</td>\n",
       "      <td>1.064880</td>\n",
       "    </tr>\n",
       "  </tbody>\n",
       "</table>\n",
       "</div>"
      ],
      "text/plain": [
       "  Implementation       mean       std\n",
       "0           Base  19.743015  1.394221\n",
       "1         Cached  17.587124  1.064880"
      ]
     },
     "execution_count": 26,
     "metadata": {},
     "output_type": "execute_result"
    }
   ],
   "source": [
    "import pandas as pd\n",
    "import matplotlib.pyplot as plt\n",
    "import seaborn as sns\n",
    "\n",
    "# Timing results (in seconds)\n",
    "data = {\n",
    "    \"Implementation\": [\"Base\", \"Base\", \"Base\", \"Cached\", \"Cached\", \"Cached\"],\n",
    "    \"Run\": [1, 2, 3, 1, 2, 3],\n",
    "    \"Time (s)\": [\n",
    "        18.790932178497314,\n",
    "        19.09477663040161,\n",
    "        21.34333610534668,\n",
    "        18.501145839691162,\n",
    "        17.842427492141724,\n",
    "        16.417797803878784\n",
    "    ]\n",
    "}\n",
    "\n",
    "df = pd.DataFrame(data)\n",
    "\n",
    "# Compute averages\n",
    "summary = df.groupby(\"Implementation\")[\"Time (s)\"].agg([\"mean\", \"std\"]).reset_index()\n",
    "summary\n"
   ]
  },
  {
   "cell_type": "code",
   "execution_count": 27,
   "id": "b2ce8aa0",
   "metadata": {},
   "outputs": [
    {
     "name": "stderr",
     "output_type": "stream",
     "text": [
      "C:\\Users\\GNG\\AppData\\Local\\Temp\\ipykernel_14628\\2635612627.py:4: FutureWarning: \n",
      "\n",
      "The `ci` parameter is deprecated. Use `errorbar='sd'` for the same effect.\n",
      "\n",
      "  sns.barplot(data=df, x=\"Implementation\", y=\"Time (s)\", ci=\"sd\", palette=\"coolwarm\")\n",
      "C:\\Users\\GNG\\AppData\\Local\\Temp\\ipykernel_14628\\2635612627.py:4: FutureWarning: \n",
      "\n",
      "Passing `palette` without assigning `hue` is deprecated and will be removed in v0.14.0. Assign the `x` variable to `hue` and set `legend=False` for the same effect.\n",
      "\n",
      "  sns.barplot(data=df, x=\"Implementation\", y=\"Time (s)\", ci=\"sd\", palette=\"coolwarm\")\n",
      "C:\\Users\\GNG\\AppData\\Local\\Temp\\ipykernel_14628\\2635612627.py:10: UserWarning: FigureCanvasAgg is non-interactive, and thus cannot be shown\n",
      "  plt.show()\n",
      "C:\\Users\\GNG\\AppData\\Local\\Temp\\ipykernel_14628\\2635612627.py:20: UserWarning: FigureCanvasAgg is non-interactive, and thus cannot be shown\n",
      "  plt.show()\n"
     ]
    }
   ],
   "source": [
    "sns.set(style=\"whitegrid\", font_scale=1.2)\n",
    "\n",
    "plt.figure(figsize=(8,5))\n",
    "sns.barplot(data=df, x=\"Implementation\", y=\"Time (s)\", ci=\"sd\", palette=\"coolwarm\")\n",
    "plt.title(\"Average Response Time Comparison: Base vs Cached\")\n",
    "plt.ylabel(\"Response Time (seconds)\")\n",
    "plt.xlabel(\"Implementation Type\")\n",
    "plt.tight_layout()\n",
    "plt.savefig(\"time_comparison_barplot.png\")\n",
    "plt.show()\n",
    "\n",
    "# Line plot for all three runs\n",
    "plt.figure(figsize=(8,5))\n",
    "sns.lineplot(data=df, x=\"Run\", y=\"Time (s)\", hue=\"Implementation\", marker=\"o\")\n",
    "plt.title(\"Response Time per Run\")\n",
    "plt.ylabel(\"Response Time (seconds)\")\n",
    "plt.xlabel(\"Run Number\")\n",
    "plt.tight_layout()\n",
    "plt.savefig(\"time_per_run_lineplot.png\")\n",
    "plt.show()\n"
   ]
  },
  {
   "cell_type": "markdown",
   "id": "217f4dbb",
   "metadata": {},
   "source": [
    "## End of Part 2\n",
    "\n",
    "You must submit:  \n",
    "- The **current notebook file** (`.ipynb`).  \n",
    "- Its **Python conversion** (`.py` file).  \n",
    "- The **Report** (`.pdf`).\n",
    "- Run **files** (`.txt`).\n",
    "\n",
    "All files should be placed inside a folder named \"RollNumber_PA1\". This folder must also include your **Part 1 files**, and the entire folder should be **zipped and submitted**."
   ]
  }
 ],
 "metadata": {
  "kernelspec": {
   "display_name": ".venv (3.13.7)",
   "language": "python",
   "name": "python3"
  },
  "language_info": {
   "codemirror_mode": {
    "name": "ipython",
    "version": 3
   },
   "file_extension": ".py",
   "mimetype": "text/x-python",
   "name": "python",
   "nbconvert_exporter": "python",
   "pygments_lexer": "ipython3",
   "version": "3.13.7"
  }
 },
 "nbformat": 4,
 "nbformat_minor": 5
}
