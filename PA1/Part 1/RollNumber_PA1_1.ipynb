{
 "cells": [
  {
   "cell_type": "markdown",
   "metadata": {},
   "source": [
    "# Assignment 1 Part 1 Instructions **[50 marks]**\n",
    "\n",
    "## Overview\n",
    "You are required to develop a **Retrieval-Augmented Generation (RAG) system** from scratch. This includes implementing embeddings, storing them in a vector database, building a retriever, and chaining it with an LLM. You will then **experiment with retrieval parameters** and analyze their effects on system accuracy. A bonus section will allow you to refine the system with **prompt engineering**.\n",
    "\n",
    "---\n",
    "\n",
    "## Part 1: Build the RAG Chain (20 marks)\n",
    "\n",
    "### Requirements\n",
    "- Implement embeddings and store them in a **vector database**.  \n",
    "- Implement a retriever and build the **RAG chain** that connects it with an LLM.  \n",
    "- Ensure the pipeline can retrieve relevant chunks and generate answers.  \n",
    "\n",
    "---\n",
    "\n",
    "## Part 2: Chaining for Extended Context (10 marks)\n",
    "\n",
    "### Requirements\n",
    "- Implement **chaining** that allows the LLM to go beyond retrieved context.  \n",
    "- Demonstrate how chaining enables multi-step reasoning or broader context handling.  \n",
    "\n",
    "---\n",
    "\n",
    "## Part 3: Parameter Testing & Report (20 marks)\n",
    "\n",
    "### Requirements\n",
    "- Use the provided dataset of **20 questions** (10 with one-word answers, 10 with no answer).  \n",
    "- Explore different values for:  \n",
    "  - **Chunk size**  \n",
    "  - **Chunk overlap**  \n",
    "  - **Top-K retrieval**  \n",
    "  - **Similarity cutoff threshold**  \n",
    "- Record and analyze how parameter choices affect accuracy.  \n",
    "- Submit a **report** summarizing:  \n",
    "  - The results of your experiments.  \n",
    "  - Explanations of why certain parameters improved or degraded performance.  \n",
    "\n",
    "---\n",
    "\n",
    "## Bonus: Prompt Engineering (5+5 marks)\n",
    "\n",
    "### Requirements\n",
    "- Refine your system using **prompt engineering** so that:  \n",
    "  - For answerable questions → the LLM provides the correct answer.  \n",
    "  - For unanswerable questions → the LLM responds with *“I don’t know”*.  \n",
    "\n",
    "### Notes:\n",
    "- Bonus marks can be used to recover deductions from earlier parts.  \n",
    "- Creativity and clarity in prompt design will be rewarded.  \n",
    "- Do **not** use GPT or other AI tools to generate code. Instead, consult the documentation — learning to use these tools independently is essential for your course projects.  \n",
    "\n",
    "---\n",
    "\n",
    "## Evaluation Criteria\n",
    "- **Correctness**: The RAG chain should work end-to-end.  \n",
    "- **Implementation**: Proper embeddings, vector DB, retriever, and chaining.  \n",
    "- **Analysis**: Depth of reasoning in your parameter exploration report.  \n",
    "- **Bonus (Optional)**: Effective prompt engineering to balance correctness and abstention.  \n",
    "\n",
    "---"
   ]
  },
  {
   "cell_type": "markdown",
   "metadata": {},
   "source": [
    "# Installation\n",
    "\n",
    "First, we install the required packages:\n",
    "\n",
    "- **LangChain** and **LangChain Community**: provide loaders, splitters, retrievers, etc.  \n",
    "- **LangChain HuggingFace**: for embedding models.  \n",
    "- **LangChain Pinecone** and **pinecone-client**: for vector database storage.  \n",
    "- **python-dotenv**: for managing API keys securely.  \n",
    "- **Streamlit**: (optional) for building a user interface.  \n",
    "- **MistralAI client**: for the language model we’ll use.\n",
    "\n",
    "This ensures our environment has all dependencies for building a RAG pipeline."
   ]
  },
  {
   "cell_type": "code",
   "execution_count": null,
   "metadata": {},
   "outputs": [],
   "source": [
    "%pip install langchain langchain-community\n",
    "%pip install langchain-huggingface pypdf\n",
    "%pip install langchain-pinecone pinecone-client\n",
    "%pip install python-dotenv streamlit\n",
    "%pip install -qU langchain-mistralai"
   ]
  },
  {
   "cell_type": "code",
   "execution_count": null,
   "metadata": {},
   "outputs": [],
   "source": [
    "import os\n",
    "import dotenv\n",
    "from uuid import uuid4\n",
    "import pandas as pd\n",
    "from tqdm import tqdm\n",
    "from pinecone import Pinecone, ServerlessSpec\n",
    "from langchain.prompts import PromptTemplate\n",
    "from langchain_core.runnables import RunnablePassthrough, RunnableLambda\n",
    "from langchain_core.output_parsers import StrOutputParser\n",
    "from langchain_community.embeddings import HuggingFaceEmbeddings\n",
    "from langchain_pinecone import PineconeVectorStore\n",
    "from langchain.document_loaders import PyPDFLoader\n",
    "from langchain.text_splitter import RecursiveCharacterTextSplitter as RCTS\n",
    "from langchain_mistralai import ChatMistralAI"
   ]
  },
  {
   "cell_type": "markdown",
   "metadata": {},
   "source": [
    "# Part 1: RAG Chatbot  <span style=\"color:green\">**[20 marks]**</span>\n",
    "\n",
    "For guidance, you may refer to the following resources:  \n",
    "- [RAG Overview](https://python.langchain.com/docs/tutorials/rag/#overview)  \n",
    "- [How-to Guides](https://python.langchain.com/docs/how_to/)  \n",
    "- [Concepts](https://python.langchain.com/docs/concepts/)  "
   ]
  },
  {
   "cell_type": "markdown",
   "metadata": {},
   "source": [
    "### Setting API Keys\n",
    "\n",
    "We need API keys for external services:\n",
    "- [HuggingFace](https://huggingface.co/settings/tokens) (for embeddings)\n",
    "- [Pinecone](https://app.pinecone.io/) (for vector storage)\n",
    "- [MistralAI](https://console.mistral.ai/api-keys) (for the chat model)\n",
    "\n",
    "Here we define them as variables. Later we’ll store them securely using environment variables."
   ]
  },
  {
   "cell_type": "code",
   "execution_count": null,
   "metadata": {},
   "outputs": [],
   "source": [
    "# You only need to run this cell once to create the .env file with your API keys.\n",
    "\n",
    "# HUGGINGFACE_API_KEY = \"enter_your_api_key\"  # Replace with your Hugging Face API key\n",
    "# PINECONE_API_KEY = \"enter_your_api_key\"        # Replace with your Pinecone API key\n",
    "# MISTRALAI_API_KEY = \"enter_your_api_key\"       # Replace with your Mistral AI API key\n",
    "\n",
    "# env_content = f\"\"\"\n",
    "# HUGGINGFACE_API_KEY={HUGGINGFACE_API_KEY}\n",
    "# PINECONE_API_KEY={PINECONE_API_KEY}\n",
    "# MISTRALAI_API_KEY={MISTRALAI_API_KEY}\n",
    "# \"\"\"\n",
    "\n",
    "# with open(\".env\", \"w\") as file:\n",
    "#     file.write(env_content)\n",
    "\n",
    "# print(\"Environment variables are saved to .env file.\")"
   ]
  },
  {
   "cell_type": "markdown",
   "metadata": {},
   "source": [
    "### Loading Environment Variables\n",
    "\n",
    "We use `dotenv` to manage keys.  \n",
    "Instead of hardcoding secrets, we load them from a `.env` file.  \n",
    "This keeps our notebook secure and avoids accidentally sharing keys.\n"
   ]
  },
  {
   "cell_type": "code",
   "execution_count": null,
   "metadata": {},
   "outputs": [],
   "source": [
    "dotenv.load_dotenv()"
   ]
  },
  {
   "cell_type": "markdown",
   "metadata": {},
   "source": [
    "### Loading and Splitting Documents\n",
    "\n",
    "Our knowledge source is a **PDF document** (the Undergraduate Student Handbook).  \n",
    "Steps:\n",
    "1. Load the PDF using `PyPDFLoader`.  \n",
    "2. Split the text into smaller chunks using `RecursiveCharacterTextSplitter`.  \n",
    "\n",
    "Why split?  \n",
    "- Large text doesn’t fit into the LLM’s context window.  \n",
    "- Smaller chunks make retrieval more accurate during question-answering."
   ]
  },
  {
   "cell_type": "code",
   "execution_count": null,
   "metadata": {},
   "outputs": [],
   "source": [
    "file_path = './Undergraduate Student Handbook 2021-2022.pdf'\n",
    "loader = PyPDFLoader(file_path)\n",
    "documents = loader.load()\n",
    "\n",
    "chunk_size = 1000\n",
    "chunk_overlap = 4\n",
    "\n",
    "text_splitter = RCTS(chunk_size=chunk_size, chunk_overlap=chunk_overlap, add_start_index=True)\n",
    "docs = text_splitter.split_documents(documents)"
   ]
  },
  {
   "cell_type": "markdown",
   "metadata": {},
   "source": [
    "## Retrieval pipeline"
   ]
  },
  {
   "cell_type": "markdown",
   "metadata": {},
   "source": [
    "### Task: Initialize Pinecone and Create a Vector Store\n",
    "\n",
    "Your task is to **set up Pinecone** as the vector database for this RAG system.  \n",
    "\n",
    "#### Requirements:  \n",
    "- If the index with the given name already exists, reuse it. Otherwise, **create a new index**.  \n",
    "- Use the following configuration for the index:\n",
    "  - **Dimension:** 768  \n",
    "  - **Metric:** cosine similarity  \n",
    "  - **Cloud:** AWS, region `us-east-1`  \n",
    "- Initialize the **embedding model** (`HuggingFaceEmbeddings`).  \n",
    "- Return a **`PineconeVectorStore`** object.  \n",
    "\n",
    "> 💡 *Hint:* Make sure you return the vector store at the end of the function so it can be used later in your RAG pipeline.\n"
   ]
  },
  {
   "cell_type": "code",
   "execution_count": null,
   "metadata": {},
   "outputs": [],
   "source": [
    "def initialize_pinecone(pc, index_name):\n",
    "    # TODO: Check if index_name already exists, otherwise create it\n",
    "    # - Use dimension=768\n",
    "    # - Metric=\"cosine\"\n",
    "    # - Cloud=\"aws\"\n",
    "    # - Region=\"us-east-1\"\n",
    "\n",
    "    # TODO: Initialize embeddings model (default)\n",
    "    embeddings = None  \n",
    "    # embeddings = HuggingFaceEmbeddings()  \n",
    "\n",
    "    # TODO: Load the index and initialize the PineconeVectorStore\n",
    "    vector_store = None  \n",
    "\n",
    "    return vector_store\n"
   ]
  },
  {
   "cell_type": "markdown",
   "metadata": {},
   "source": [
    "### Task: Add Documents to Pinecone\n",
    "\n",
    "Your task is to **add documents to the Pinecone vector store**.  \n",
    "\n",
    "#### Requirements:\n",
    "- Each document must be assigned a **unique ID** before insertion.  \n",
    "- Use `uuid4()` to generate IDs for all documents.  \n",
    "- Add the provided list of texts to the given **vector store**.  \n",
    "- Ensure the function returns nothing but successfully inserts the documents.  "
   ]
  },
  {
   "cell_type": "code",
   "execution_count": null,
   "metadata": {},
   "outputs": [],
   "source": [
    "def add_documents_to_pinecone(documents, vector_store):\n",
    "    # TODO: Generate a unique ID for each text using uuid4\n",
    "    uuids = None  \n",
    "\n",
    "    # TODO: Add texts and their IDs to the vector store\n",
    "    pass\n"
   ]
  },
  {
   "cell_type": "markdown",
   "metadata": {},
   "source": [
    "### Task: Create a Retriever from Vector Store\n",
    "\n",
    "Your task is to **create a retriever** that will query the vector store for the most relevant documents.  \n",
    "\n",
    "#### Requirements:\n",
    "- Convert the `vector_store` into a retriever using `.as_retriever()`.  \n",
    "- Use **similarity with score threshold** as the search type.  \n",
    "- The retriever should take two parameters:  \n",
    "  - **top_k** → maximum number of documents to retrieve.  \n",
    "  - **score_threshold** → minimum similarity score required for retrieval.  \n",
    "- Return the retriever object.  \n",
    "\n",
    "> 💡 *Hint:* Adjusting `top_k` and `score_threshold` will be important later when you experiment with retrieval performance.\n"
   ]
  },
  {
   "cell_type": "code",
   "execution_count": null,
   "metadata": {},
   "outputs": [],
   "source": [
    "def create_retriever(vector_store, top_k=2, score_threshold=0.5):\n",
    "    # TODO: Create a retriever using similarity with score threshold\n",
    "    retriever = None  \n",
    "\n",
    "    return retriever\n"
   ]
  },
  {
   "cell_type": "markdown",
   "metadata": {},
   "source": [
    "### Test a Simple Similarity Search\n",
    "\n",
    "Now that you have implemented the helper functions, it’s time to test the full retrieval pipeline.\n",
    "\n",
    "#### Steps:\n",
    "1. Initialize Pinecone using your API key (`PINECONE_API_KEY`) and then a vector store.  \n",
    "2. Add handbook documents to the vector store using `add_documents_to_pinecone()`.  \n",
    "3. Run a **similarity search** against the vector store with a query (e.g., *\"Grading Policy\"*).  \n",
    "4. Retrieve the top `k` chunks and print out their content and metadata.  \n",
    "\n",
    "> 💡 *Hint:* This step ensures that your embeddings and vector store are working correctly before moving on to building the RAG chain.\n"
   ]
  },
  {
   "cell_type": "code",
   "execution_count": null,
   "metadata": {},
   "outputs": [],
   "source": [
    "# Step 1: Initialize Pinecone and create/reuse vector store\n",
    "pc = Pinecone(api_key=os.environ.get(\"PINECONE_API_KEY\"))\n",
    "vector_store = initialize_pinecone(pc, index_name=\"handbook\")\n",
    "\n",
    "# Step 2: we will use the previously created `docs` variable\n",
    "add_documents_to_pinecone(docs, vector_store)\n",
    "\n",
    "# Step 3: Initialize retriever\n",
    "k = 2\n",
    "threshold = 0.5\n",
    "retriever = create_retriever(vector_store, top_k=k, score_threshold=threshold)"
   ]
  },
  {
   "cell_type": "code",
   "execution_count": null,
   "metadata": {},
   "outputs": [],
   "source": [
    "# Step 4: Perform a similarity search with a query\n",
    "results = retriever.get_relevant_documents(\"Grading Policy\")\n",
    "\n",
    "# Step 5: Print out the content and metadata of the retrieved results\n",
    "for res in results:\n",
    "    print(f\"* {res.page_content} [{res.metadata}]\")"
   ]
  },
  {
   "cell_type": "markdown",
   "metadata": {},
   "source": [
    "## LLM Pipeline"
   ]
  },
  {
   "cell_type": "markdown",
   "metadata": {},
   "source": [
    "### Initializing the Chat Model (Mistral AI)\n",
    "\n",
    "We now set up the **LLM** that will generate answers.  \n",
    "Here we initialize the **[Mistral model](https://docs.mistral.ai/getting-started/models/models_overview/)** using our API key.  \n",
    "\n",
    "This model will take the retrieved handbook text + user question, and generate a clear answer."
   ]
  },
  {
   "cell_type": "code",
   "execution_count": null,
   "metadata": {},
   "outputs": [],
   "source": [
    "# Define the model\n",
    "model = \"ministral-3b-latest\"\n",
    "llm = ChatMistralAI(\n",
    "    model=model,\n",
    "    temperature=0,\n",
    "    max_retries=1,\n",
    "    api_key=os.getenv(\"MISTRAL_API_KEY\")\n",
    ")\n"
   ]
  },
  {
   "cell_type": "markdown",
   "metadata": {},
   "source": [
    "### Defining a Prompt Template\n",
    "\n",
    "Language models work best when guided with **clear instructions**.  \n",
    "Here we create a **PromptTemplate** that tells the chatbot exactly how to behave:\n",
    "\n",
    "- It is designed to answer questions **only about the LUMS Student Handbook**.  \n",
    "- It must use the **given context** (retrieved chunks from the handbook).  \n",
    "- If the answer is not in the context, it should respond with **“I don’t know”**.  \n",
    "- The template takes two inputs:  \n",
    "  1. **context** – text retrieved from the handbook.  \n",
    "  2. **question** – the student’s query.  \n",
    "\n",
    "This ensures the chatbot gives reliable answers and avoids making things up.\n"
   ]
  },
  {
   "cell_type": "code",
   "execution_count": null,
   "metadata": {},
   "outputs": [],
   "source": [
    "# Define the modified prompt template\n",
    "template = \"\"\"\n",
    "You are a chatbot designed to answer questions from LUMS students. LUMS is a university and you have access to the student handbook.\n",
    "Use following extract from the handbook to answer the question.\n",
    "If the context doesn't contain any relevant information to the question, then just say \"I don't know\".\n",
    "If you don't know the answer, then just say \"I don't know\".\n",
    "Do NOT make something up.\n",
    "\n",
    "Context: {context}\n",
    "Question: {question}\n",
    "Answer:\n",
    "\"\"\"\n",
    "\n",
    "\n",
    "prompt = PromptTemplate(template=template, input_variables=[\"context\", \"question\"])"
   ]
  },
  {
   "cell_type": "markdown",
   "metadata": {},
   "source": [
    "## The RAG Chain\n",
    "\n",
    "Now that you have a retriever & LLM, it’s time to connect both with a **prompt template** to form the RAG pipeline.\n",
    "\n",
    "### Requirements:\n",
    "- Take in three inputs:\n",
    "  - **retriever** → to fetch relevant context from the vector store.  \n",
    "  - **prompt** → the prompt template that structures inputs for the LLM.  \n",
    "  - **llm** → the language model used for generation.  \n",
    "- Chain the components together in the following order:\n",
    "  1. Retrieve documents (`retriever | format_docs`).  \n",
    "  2. Pass context and the user question into the **prompt**.  \n",
    "  3. Send the formatted prompt to the **LLM**.  \n",
    "  4. Parse the response into a clean string (`StrOutputParser`).  \n",
    "- Return the completed RAG chain object.  \n",
    "\n",
    "> 💡 *Hint:* This chain will be the foundation for answering user queries with retrieved context.\n"
   ]
  },
  {
   "cell_type": "code",
   "execution_count": null,
   "metadata": {},
   "outputs": [],
   "source": [
    "def format_docs(docs):  # stitches together retrieved documents\n",
    "    return \"\\n\\n\".join([d.page_content for d in docs])\n",
    "\n",
    "def build_rag_chain(retriever, prompt, llm):\n",
    "    # TODO: Combine retriever, prompt, and llm into a chain\n",
    "    rag_chain = None  \n",
    "\n",
    "    return rag_chain\n",
    "\n",
    "rag_chain = build_rag_chain(retriever, prompt, llm)"
   ]
  },
  {
   "cell_type": "markdown",
   "metadata": {},
   "source": [
    "### Task: Test the RAG Chain\n",
    "\n",
    "Now that your RAG chain is built, it’s time to **run a query** and inspect the output."
   ]
  },
  {
   "cell_type": "code",
   "execution_count": null,
   "metadata": {},
   "outputs": [],
   "source": [
    "question = \"What is the grading policy for the university?\"\n",
    "result = rag_chain.invoke(question)\n",
    "print(result)"
   ]
  },
  {
   "cell_type": "code",
   "execution_count": null,
   "metadata": {},
   "outputs": [],
   "source": [
    "question = \"What are some minors offered at SBASSE?\"\n",
    "result = rag_chain.invoke(question)\n",
    "print(result)"
   ]
  },
  {
   "cell_type": "markdown",
   "metadata": {},
   "source": [
    "### Task: Testing its limitations\n",
    "\n",
    "General questions that are not related to the university would not answered due to the way we structured the prompt template. Try asking such questions below to see."
   ]
  },
  {
   "cell_type": "code",
   "execution_count": null,
   "metadata": {},
   "outputs": [],
   "source": [
    "question = \"What are some gift ideas for Mothers Day?\"\n",
    "result = rag_chain.invoke(question)\n",
    "print(result)"
   ]
  },
  {
   "cell_type": "code",
   "execution_count": null,
   "metadata": {},
   "outputs": [],
   "source": [
    "question = \"What is the fastest growing plant?\"\n",
    "result = rag_chain.invoke(question)\n",
    "print(result)"
   ]
  },
  {
   "cell_type": "markdown",
   "metadata": {},
   "source": [
    "# Part 2: Dynamic Routing <span style=\"color:green\">**[10 marks]**</span>\n",
    "\n",
    "One of the key advantages of LangChain is the ability to create **non-deterministic chains**, where the output of one step determines the next.  \n",
    "\n",
    "In this section, you will:\n",
    "1. **Build a classifier chain** to decide whether a user question is about *education/academic policies* or *Other*. [5 marks]  \n",
    "2. **Build a general LLM chain** that handles non-policy queries. [5 marks]  \n",
    "3. **Implement routing logic** that uses the classifier output to decide whether to send the query to the **RAG chain** (for policy-related questions) or to the **general chain** (for everything else). [10 marks]  \n",
    "\n",
    "#### Requirements:\n",
    "- Use a **prompt template** for classification (must only return `\"education/academic policies\"` or `\"Other\"`).  \n",
    "- Build a **general chain** that simply responds directly to a user’s query.  \n",
    "- Implement a `route()` function that:  \n",
    "  - Sends questions about education/academic policies → `rag_chain`.  \n",
    "  - Sends all other questions → `general_chain`.  \n",
    "- Combine everything into a `full_chain` that takes a question and automatically routes it.  \n",
    "\n",
    "> 💡 *Hint:* Use `RunnableLambda` for your routing logic.\n"
   ]
  },
  {
   "cell_type": "code",
   "execution_count": null,
   "metadata": {},
   "outputs": [],
   "source": [
    "# example prompts for classification and general QA\n",
    "\n",
    "classifier_template = \"\"\"Given the user question below, classify it as either being about `education/academic policies`, or `Other`.\n",
    "\n",
    "Do not respond with anything other than 'education/academic policies' or 'Other'.\n",
    "\n",
    "<question>\n",
    "{question}\n",
    "</question>\n",
    "\n",
    "Classification:\"\"\"\n",
    "\n",
    "general_template = \"\"\"Respond to the following question:\n",
    "\n",
    "Question: {question}\n",
    "Answer:\"\"\"\n"
   ]
  },
  {
   "cell_type": "code",
   "execution_count": null,
   "metadata": {},
   "outputs": [],
   "source": [
    "# 1. Define the classifier chain\n",
    "classifier_prompt = None  # TODO: Build a PromptTemplate\n",
    "classifier_chain = None   # TODO: Build the classifier chain with RunnablePassthrough, classifier_prompt, llm, and StrOutputParser\n",
    "\n",
    "\n",
    "# 2. Define the general LLM chain\n",
    "general_prompt = None  # TODO: Build a PromptTemplate\n",
    "general_chain = None   # TODO: Build the general chain with RunnablePassthrough, general_prompt, llm, and StrOutputParser\n",
    "\n",
    "\n",
    "# 3. Implement routing logic \n",
    "def route(info):\n",
    "    # TODO: Implement routing logic based on the topic\n",
    "    pass\n",
    "\n",
    "# Combine into the full chain\n",
    "full_chain = None  # TODO: Combine classifier_chain, question passthrough, and routing logic into a full chain"
   ]
  },
  {
   "cell_type": "markdown",
   "metadata": {},
   "source": [
    "### Testing Our Improved ChatBot"
   ]
  },
  {
   "cell_type": "code",
   "execution_count": null,
   "metadata": {},
   "outputs": [],
   "source": [
    "question = \"What is the grading policy for the university?\"\n",
    "answer = full_chain.invoke({\"question\": question})\n",
    "print(answer)"
   ]
  },
  {
   "cell_type": "code",
   "execution_count": null,
   "metadata": {},
   "outputs": [],
   "source": [
    "question = \"What is the biggest mammal?\"\n",
    "answer = full_chain.invoke({\"question\": question})\n",
    "print(answer)"
   ]
  },
  {
   "cell_type": "markdown",
   "metadata": {},
   "source": [
    "# Part 3: Experiment with Retrieval Parameters <span style=\"color:green\">**[20 marks]**</span>\n",
    "\n",
    "In this task, you will experiment with different parameter values to analyze their impact on model efficiency. Focus on **understanding how** changes in these parameters affect the results, not just aiming for the best accuracy.\n",
    "\n",
    "#### Parameters to Experiment With:\n",
    "- **Chunk Size**: `200, 300, 400, 600`\n",
    "- **Chunk Overlap**: `100, 200`\n",
    "- **Top K**: `1, 2, 3`\n",
    "- **Thresholds**: `0.3, 0.5, 0.7`\n",
    "\n",
    "Feel free to explore additional values within similar ranges, but keep consistent gaps between values. Test **at least 3 values** for each parameter (5 for better results).\n",
    "\n",
    "#### Deliverables:\n",
    "- **Report**: Summarize your findings in a report, including:\n",
    "  - **Tables** for results\n",
    "  - **Graphs** for visual representation\n",
    "  - **Explanations** of trends observed and why they occur.\n",
    "  \n",
    "  *The report should explain why the chosen ranges make sense and provide insights into your findings.*\n",
    "\n",
    "- **Code**: Include the code you used to generate the graphs below each corresponding cell for reproducibility.\n",
    "\n",
    "#### Evaluation Criteria:\n",
    "- **Ranges and Explanations**: Marks are based on the **quality of your chosen ranges** and the **clarity of your explanations**. \n",
    "  - For example, simply choosing the highest chunk size and achieving 1 accuracy in all cases is not the correct approach.\n"
   ]
  },
  {
   "cell_type": "markdown",
   "metadata": {},
   "source": [
    "### Helper Functions\n",
    "\n",
    "1. Previously, you worked with documents extracted from a PDF. In this section, you will use a **CSV file** as the data source. \n",
    "2. Since the Pinecone free tier allows a maximum of **5 indexes**, we need a function to automatically delete the **least-used index** when this limit is reached.\n",
    "3. Also some helper functions for logging and evaluation"
   ]
  },
  {
   "cell_type": "code",
   "execution_count": null,
   "metadata": {},
   "outputs": [],
   "source": [
    "# Define the modified prompt template\n",
    "template = \"\"\"\n",
    "You are a chatbot that can only provide answers based on the following provided context. \n",
    "Only use the context below to answer the question.\n",
    "If the context doesn't provide any information to answer the question, say \"I don't know\".\n",
    "Provide a brief, one-word answer if possible.\n",
    "\n",
    "Context: {context}\n",
    "Question: {question}\n",
    "Answer:\n",
    "\"\"\"\n",
    "prompt = PromptTemplate(template=template, input_variables=[\"context\", \"question\"])\n",
    "\n",
    "# load the dataset\n",
    "def load_dataset(file_path):\n",
    "    df = pd.read_csv(file_path)\n",
    "    return df\n",
    "\n",
    "# Function to split context into chunks with overlap\n",
    "def split_text_into_chunks(text, chunk_size=500, overlap=50):\n",
    "    chunks = []\n",
    "    for i in range(0, len(text), chunk_size - overlap):\n",
    "        chunk = text[i:i + chunk_size]\n",
    "        chunks.append(chunk)\n",
    "    return chunks\n",
    "\n",
    "# Function to add documents to Pinecone\n",
    "def add_text_to_pinecone(texts, vector_store):\n",
    "    uuids = [str(uuid4()) for _ in range(len(texts))]\n",
    "    vector_store.add_texts(texts=texts, ids=uuids)\n",
    "\n",
    "# Function to delete index (you can do manually from Pinecone website as well) (you can change it to not delete handbook index)\n",
    "def delete_least_used_index(pc):\n",
    "    indexes = pc.list_indexes().names()\n",
    "\n",
    "    if len(indexes) >= 5:\n",
    "        index_to_delete = indexes[-1]\n",
    "        pc.delete_index(index_to_delete)\n",
    "        print(f\"Deleted least-used index: {index_to_delete}\")\n",
    "\n",
    "# Function to evaluate a question's response\n",
    "def evaluate_answer(predicted_answer, true_answer):    \n",
    "    # Compare the predicted answer with the true answer (case insensitive, and strip spaces)\n",
    "    predicted_answer = predicted_answer.strip().lower()\n",
    "    true_answer = true_answer.strip().lower()\n",
    "\n",
    "    return predicted_answer == true_answer\n",
    "\n",
    "# Function to log conversations and results to a text file\n",
    "def log_conversation_to_file(filename, chunk_size, overlap, top_k, question, context, predicted_answer, true_answer):\n",
    "    with open(filename, 'a') as f:\n",
    "        f.write(f\"Chunk Size: {chunk_size}, Overlap: {overlap}, Top K: {top_k}\\n\")\n",
    "        f.write(f\"Context: {context}\\n\")\n",
    "        f.write(f\"Question: {question}\\n\")\n",
    "        f.write(f\"Predicted Answer: {predicted_answer}\\n\")\n",
    "        f.write(f\"True Answer: {true_answer}\\n\")\n",
    "        f.write(\"-\" * 80 + \"\\n\")"
   ]
  },
  {
   "cell_type": "markdown",
   "metadata": {},
   "source": [
    "### Step: Prepare Vector Store for a Dataset\n",
    "\n",
    "For each `(chunk_size, overlap)` pair, you need to:\n",
    "1. Initialize Pinecone and create/reuse an index.  \n",
    "2. Split dataset contexts into chunks.  \n",
    "3. Upload all chunks to the vector DB.  \n",
    "4. Call your `delete_least_used_index()` if needed.  \n",
    "\n",
    "This function ensures you only upload chunks **once per chunking configuration**, saving time during experiments.\n",
    "\n",
    "<span style=\"color:red\">!!! <span style=\"color:white\">why not take top k and threshold into consideration at this point? (add answer to your report)\n"
   ]
  },
  {
   "cell_type": "code",
   "execution_count": null,
   "metadata": {},
   "outputs": [],
   "source": [
    "def prepare_vector_store(dataset, chunk_size=500, overlap=50):\n",
    "    # Initialize Pinecone\n",
    "    pc = Pinecone(api_key=os.environ.get(\"PINECONE_API_KEY\"))\n",
    "    index_name = f\"test-{chunk_size}-{overlap}\"\n",
    "    \n",
    "    # Create/reuse vector store\n",
    "    try:\n",
    "        vector_store = initialize_pinecone(pc, index_name)\n",
    "    except Exception as e:\n",
    "        print(f\"Error initializing Pinecone: {e}, returning\")\n",
    "        delete_least_used_index(pc)\n",
    "        try:\n",
    "            vector_store = initialize_pinecone(pc, index_name)\n",
    "        except Exception as e:\n",
    "            print(f\"Second attempt failed: {e}, exiting\")\n",
    "            return None\n",
    "        \n",
    "\n",
    "    all_chunks = []\n",
    "    for _, row in dataset.iterrows():\n",
    "        context = row[\"context\"]\n",
    "        chunks = split_text_into_chunks(context, chunk_size=chunk_size, overlap=overlap)\n",
    "        all_chunks.extend(chunks)\n",
    "\n",
    "    add_text_to_pinecone(all_chunks, vector_store)\n",
    "\n",
    "    print(f\"Added {len(all_chunks)} chunks to {index_name}.\")\n",
    "    return vector_store\n"
   ]
  },
  {
   "cell_type": "markdown",
   "metadata": {},
   "source": [
    "### Step: Test a Single Question\n",
    "\n",
    "We define a helper function to run a single question through the RAG chain.\n",
    "\n",
    "#### Requirements:\n",
    "- Input: `question`, `chain`.  \n",
    "- Output: model’s predicted answer string.  \n"
   ]
  },
  {
   "cell_type": "code",
   "execution_count": null,
   "metadata": {},
   "outputs": [],
   "source": [
    "def test_question(question, chain):\n",
    "    predicted_answer = chain.invoke(question)\n",
    "    return predicted_answer\n"
   ]
  },
  {
   "cell_type": "markdown",
   "metadata": {},
   "source": [
    "### Step: Complete Run \n",
    "A helper function to run a complete test with the given parameters"
   ]
  },
  {
   "cell_type": "code",
   "execution_count": null,
   "metadata": {},
   "outputs": [],
   "source": [
    "def experiment_rag(dataset, chunk_sizes, overlaps, top_k_values, thresholds, test_prompt=prompt, llm=llm, exp_name=\"log\"):\n",
    "    results = []\n",
    "\n",
    "    for chunk_size in chunk_sizes:\n",
    "        for overlap in overlaps:\n",
    "            vector_store = prepare_vector_store(dataset, chunk_size, overlap)\n",
    "\n",
    "            for top_k in top_k_values:\n",
    "                for threshold in thresholds:\n",
    "                    retriever = create_retriever(vector_store, top_k=top_k, score_threshold=threshold)\n",
    "                    test_chain = build_rag_chain(retriever, test_prompt, llm)\n",
    "                    filename = exp_name + f\"_cs{chunk_size}_ov{overlap}_k{top_k}_th{threshold}.txt\"\n",
    "\n",
    "                    correct, total = 0, 0\n",
    "                    for _, row in dataset.iterrows():\n",
    "                        question = row[\"question\"]\n",
    "                        context = row[\"context\"]\n",
    "                        true_answer_dict = eval(row[\"answers\"])\n",
    "                        true_answer = true_answer_dict['text'][0] if true_answer_dict['text'] else \"I don't know\"\n",
    "\n",
    "                        predicted = test_question(question, test_chain)\n",
    "\n",
    "                        log_conversation_to_file(filename, chunk_size, overlap, top_k, question, context, predicted, true_answer)\n",
    "                        if evaluate_answer(predicted, true_answer):\n",
    "                            correct += 1\n",
    "                        total += 1\n",
    "\n",
    "                    accuracy = correct / total if total > 0 else 0\n",
    "                    results.append({\n",
    "                        \"chunk_size\": chunk_size,\n",
    "                        \"overlap\": overlap,\n",
    "                        \"top_k\": top_k,\n",
    "                        \"threshold\": threshold,\n",
    "                        \"accuracy\": accuracy\n",
    "                    })\n",
    "\n",
    "                    print(f\"cs={chunk_size}, ov={overlap}, k={top_k}, th={threshold} → Acc={accuracy:.4f}\")\n",
    "\n",
    "    return results\n"
   ]
  },
  {
   "cell_type": "markdown",
   "metadata": {},
   "source": [
    "### Task: Run Experiments on Dataset Splits\n",
    "\n",
    "We will now use the `experiment_rag()` function to test different parameter combinations.  \n",
    "\n",
    "#### Requirements:\n",
    "1. Load the dataset from CSV.  \n",
    "2. Split it into two halves:  \n",
    "   - **d1** → first 10 rows (e.g., answerable questions).  \n",
    "   - **d2** → last 10 rows (e.g., unanswerable questions).  \n",
    "3. Run `experiment_rag()` separately on each split.  \n",
    "4. Compare the results for **d1** vs **d2**.  \n",
    "\n",
    "> 💡 *Hint:* Choose a few values for `chunk_sizes`, `overlaps`, `top_k_values`, and `thresholds` so the experiments run in reasonable time.\n",
    "\n",
    "#### Primary Focus:\n",
    "- The **primary rows of interest** are the 10 rows in **d1** (answerable questions).  \n",
    "- Improvements seen in **d2** can likely be attributed to prompt engineering, which can be explored further in the bonus section.\n",
    "\n",
    "#### Reporting:\n",
    "- In your report, place more emphasis on the **d1 subset** of the dataset, as it is the key focus of this task.\n"
   ]
  },
  {
   "cell_type": "code",
   "execution_count": null,
   "metadata": {},
   "outputs": [],
   "source": [
    "# Step 1: Load dataset\n",
    "dataset = load_dataset(\"test_subset.csv\")\n",
    "\n",
    "# Step 2: Split dataset into two parts\n",
    "d1 = dataset.head(10)  # First 10 rows\n",
    "d2 = dataset.tail(10)  # Last 10 rows\n",
    "\n",
    "# Step 3: Define parameter values to test\n",
    "chunk_sizes = [200, 400]          # TODO: Adjust as needed\n",
    "overlaps = [50, 100]              # TODO: Adjust as needed\n",
    "top_k_values = [2, 3]             # TODO: Adjust as needed\n",
    "thresholds = [0.3, 0.5, 0.7]      # TODO: Adjust as needed\n",
    "\n",
    "# Step 4: Run experiments on each subset\n",
    "print(\"### Results on d1 (first 10 rows) ###\")\n",
    "results_d1 = experiment_rag(d1, chunk_sizes, overlaps, top_k_values, thresholds, exp_name=\"d1\")\n",
    "\n",
    "print(\"\\n### Results on d2 (last 10 rows) ###\")\n",
    "results_d2 = experiment_rag(d2, chunk_sizes, overlaps, top_k_values, thresholds, exp_name=\"d2\")\n"
   ]
  },
  {
   "cell_type": "markdown",
   "metadata": {},
   "source": [
    "### Bonus Part: Prompt Engineering <span style=\"color:green\">**[10 marks]**</span> \n",
    "\n",
    "\n",
    "In this part, your task is to **enhance the prompt** used in the previous experiments by applying prompt engineering techniques to improve the performance.\n",
    "\n",
    "#### Requirements:\n",
    "1. **Improve the Prompt**: Apply prompt engineering techniques to create a more effective and generalized prompt.  \n",
    "2. **Report Addition**: Extend your report from the previous part to include:\n",
    "   - How you came up with the improved prompt.\n",
    "   - Why you believe the new prompt performs better than the provided prompt.\n",
    "   - A comparison of the results (accuracy) between the original and improved prompt, focusing on **d2** (unanswerable questions).\n",
    "\n",
    "#### Key Objectives:\n",
    "- **Performance Tuning**: The goal is **not** to achieve the best accuracy but to **optimize performance** through prompt engineering.\n",
    "- **Generalization**: Ensure that the improved prompt works for both **answerable (d1)** and **unanswerable (d2)** questions, maintaining a balance in performance across both subsets. Your prompt should not only excel in **d2** but also maintain good performance in **d1**.\n",
    "\n",
    "In your report, provide an explanation of the trade-offs made during prompt engineering and how it influences the results in both subsets."
   ]
  },
  {
   "cell_type": "code",
   "execution_count": null,
   "metadata": {},
   "outputs": [],
   "source": [
    "improved_template = \"\"\"Respond to the following question:\n",
    "Question: {question}\n",
    "Answer:\"\"\"\n",
    "\n",
    "improved_prompt = PromptTemplate(template=improved_template, input_variables=[\"question\"])\n",
    "\n",
    "# improved_chain = build_rag_chain(retriever, improved_prompt, llm) #(for manual testing)"
   ]
  },
  {
   "cell_type": "code",
   "execution_count": null,
   "metadata": {},
   "outputs": [],
   "source": [
    "print(\"### Results on d1 (first 10 rows) ###\")\n",
    "results_d1 = experiment_rag(d1, chunk_sizes, overlaps, top_k_values, thresholds, test_prompt=improved_prompt, exp_name=\"bonus\")\n"
   ]
  },
  {
   "cell_type": "markdown",
   "metadata": {},
   "source": [
    "## End of Part 1\n",
    "\n",
    "You must submit:  \n",
    "- The **current notebook file** (`.ipynb`).  \n",
    "- Its **Python conversion** (`.py` file).  \n",
    "- The **Report** (`.pdf`).\n",
    "- Run **files** (`.txt`).\n",
    "\n",
    "All files should be placed inside a folder named \"RollNumber_PA1\". This folder must also include your **Part 2 files**, and the entire folder should be **zipped and submitted**."
   ]
  }
 ],
 "metadata": {
  "kernelspec": {
   "display_name": "Python 3",
   "language": "python",
   "name": "python3"
  },
  "language_info": {
   "codemirror_mode": {
    "name": "ipython",
    "version": 3
   },
   "file_extension": ".py",
   "mimetype": "text/x-python",
   "name": "python",
   "nbconvert_exporter": "python",
   "pygments_lexer": "ipython3",
   "version": "3.10.12"
  }
 },
 "nbformat": 4,
 "nbformat_minor": 2
}
